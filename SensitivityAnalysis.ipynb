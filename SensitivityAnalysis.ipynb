{
 "cells": [
  {
   "cell_type": "code",
   "execution_count": 5,
   "metadata": {},
   "outputs": [],
   "source": [
    "import numpy as np\n",
    "from scipy.integrate import odeint\n",
    "import pandas as pd\n",
    "import matplotlib.pyplot as plt\n",
    "from scipy.optimize import curve_fit"
   ]
  },
  {
   "cell_type": "code",
   "execution_count": 36,
   "metadata": {},
   "outputs": [],
   "source": []
  },
  {
   "cell_type": "code",
   "execution_count": 37,
   "metadata": {},
   "outputs": [],
   "source": [
    "# Defining the ODE function\n",
    "\n",
    "def dinner_odes(X, t, params):\n",
    "    r, L = X\n",
    "\n",
    "    gamma_n, k_n, eta_L, eta_r, P, R0 = params\n",
    "\n",
    "    h = 3 * 10**(-3)\n",
    "    mu_L = 1 / (2 * np.pi * h * eta_L)\n",
    "    mu_r = 1 / (2 * np.pi * h * eta_r)\n",
    "\n",
    "    gamma = gamma_n * (P * R0)\n",
    "    k = k_n * P * R0**3\n",
    "\n",
    "    U = -P * np.pi * (r**2) + 2 * np.pi * gamma * r + k * np.pi * r * (1 / r - 1 / R0)**2\n",
    "    dUdr = -2 * P * np.pi * r + 2 * np.pi * gamma - k * np.pi * (1 / (r**2) - 1 / (R0**2))\n",
    "    kappa = -mu_L * U / r\n",
    "\n",
    "    dLdt = L * kappa\n",
    "    drdt = -mu_r * r * dUdr\n",
    "\n",
    "    return [drdt, dLdt]\n"
   ]
  },
  {
   "cell_type": "markdown",
   "metadata": {},
   "source": [
    "<h3> Sensitivity Analysis </h3>\n",
    "\n",
    "How is the log growth rate of width determined by the bending rigidity and surface tension of the cell? \n",
    "\n",
    "Steps: \n",
    "1. Fit the width to a logistic function and get the r from there\n",
    "2.  Vary k_n and gamma_n in a 2D plane and plot the r values for each fit on the color axis"
   ]
  },
  {
   "cell_type": "code",
   "execution_count": 102,
   "metadata": {},
   "outputs": [],
   "source": [
    "# Setting the parameters: \n",
    "eta_L = 696.5\n",
    "eta_r = 995.3\n",
    "P = 0.7\n",
    "R0 = 0.3\n",
    "# Set initial conditions and parameters\n",
    "X0 = [0.3, 3]  # Assuming avg_width and avg_length are defined\n",
    "tspan = np.linspace(0, 25, 200)  # Define the time span\n",
    "\n",
    "# Define the logistic function\n",
    "def logistic_function(t, w_min, w_max, r):\n",
    "    w = (w_min*w_max)/(w_min + (w_max-w_min)*np.exp(-r*t))\n",
    "    return w\n"
   ]
  },
  {
   "cell_type": "code",
   "execution_count": null,
   "metadata": {},
   "outputs": [],
   "source": [
    "\n",
    "plt.figure(figsize=[60,60])\n",
    "i=0\n",
    "for gamma_n in np.arange(0.99, 0.01, -0.1):\n",
    "    for k_n in np.arange(2.5, 11, 0.85):\n",
    "        i = i+1\n",
    "        opt_params = [gamma_n, k_n, eta_L, eta_r, P, R0]\n",
    "        # Solve the ODEs\n",
    "        sol = odeint(dinner_odes, X0, tspan, args=(opt_params,))\n",
    "        # The solution 'sol' contains the values of r and L over time\n",
    "        # You can access them using sol[:, 0] for r and sol[:, 1] for L\n",
    "        # Fitting the logistic function \n",
    "        # Generate some example data\n",
    "        x_data = tspan\n",
    "        y_data = sol[:,0]\n",
    "\n",
    "        # Use curve_fit to fit the logistic function to the data\n",
    "        params, covariance = curve_fit(logistic_function, x_data, y_data)\n",
    "\n",
    "        # Extract the parameters\n",
    "        w_min_fit, w_max_fit, r_fit = params\n",
    "\n",
    "        # Generate a finer x range for plotting the fitted curve\n",
    "        x_fit = np.linspace(min(x_data), max(x_data), 1000)\n",
    "        y_fit = logistic_function(x_fit, w_min_fit, w_max_fit, r_fit)\n",
    "\n",
    "        # Plot the original data and the fitted logistic curve\n",
    "        plt.subplot(10,10,i)\n",
    "        plt.scatter(x_data, y_data, 5, label='Model ODE solution')\n",
    "        plt.plot(x_fit, y_fit, label='Fitted Logistic Curve', color='red')\n",
    "        # plt.legend()\n",
    "        # plt.ylim(0.3,0.4)\n",
    "        plt.xlabel(f'w_mn = {w_min_fit:.4f}, w_mx = {w_max_fit:.4f},r = {r_fit:.4f}')\n",
    "        # plt.ylabel('y')\n",
    "        plt.title(f'k_n = {k_n:0.2f}, gamma_n = {gamma_n:.2f}')\n",
    "        # plt.show()\n",
    "        # print('fit parameters: ')\n",
    "        # print(f'r = {r_fit:.4f}\\nw_max = {w_max_fit:.4f}\\nw_min = {w_min_fit:.4f}')"
   ]
  },
  {
   "cell_type": "code",
   "execution_count": 103,
   "metadata": {},
   "outputs": [],
   "source": [
    "def find_r(gamma_n, k_n):\n",
    "    # Setting the parameters: \n",
    "    eta_L = 696.5\n",
    "    eta_r = 995.3\n",
    "    P = 0.7\n",
    "    R0 = 0.3\n",
    "    opt_params = [gamma_n, k_n, eta_L, eta_r, P, R0]\n",
    "    # Solve the ODEs\n",
    "    sol = odeint(dinner_odes, X0, tspan, args=(opt_params,))\n",
    "    # The solution 'sol' contains the values of r and L over time\n",
    "    # You can access them using sol[:, 0] for r and sol[:, 1] for L\n",
    "    # Fitting the logistic function \n",
    "    # Generate some example data\n",
    "    x_data = tspan\n",
    "    y_data = sol[:,0]\n",
    "\n",
    "    # Use curve_fit to fit the logistic function to the data\n",
    "    params, covariance = curve_fit(logistic_function, x_data, y_data)\n",
    "\n",
    "    # Extract the parameters\n",
    "    w_min_fit, w_max_fit, r_fit = params\n",
    "    return r_fit\n",
    "        "
   ]
  },
  {
   "cell_type": "code",
   "execution_count": 108,
   "metadata": {},
   "outputs": [
    {
     "data": {
      "text/plain": [
       "0.1639391657652898"
      ]
     },
     "execution_count": 108,
     "metadata": {},
     "output_type": "execute_result"
    }
   ],
   "source": [
    "find_r(0.4, 4.6)"
   ]
  },
  {
   "cell_type": "code",
   "execution_count": 131,
   "metadata": {},
   "outputs": [
    {
     "data": {
      "image/png": "[encoded data removed]",
      "text/plain": [
       "<Figure size 1000x800 with 2 Axes>"
      ]
     },
     "metadata": {},
     "output_type": "display_data"
    }
   ],
   "source": [
    "g_n = np.linspace(0.01,0.99,19)\n",
    "k_n = np.linspace(1.5, 11, 19)\n",
    "\n",
    "G,K = np.meshgrid(g_n, k_n)\n",
    "find_r_vec = np.vectorize(find_r)\n",
    "\n",
    "# Calculate R values for each combination of G and K\n",
    "R = find_r_vec(G, K)\n",
    "\n",
    "\n",
    "#Plot the results\n",
    "plt.figure(figsize=[10, 8])\n",
    "plt.pcolormesh(G, K, R, cmap='viridis')\n",
    "plt.colorbar(label='r values')\n",
    "plt.xlabel('Gamma_n')\n",
    "plt.ylabel('K_n')\n",
    "plt.title('Sensitivity Analysis: Effect of Gamma_n and K_n on r')\n",
    "plt.show()"
   ]
  }
 ],
 "metadata": {
  "kernelspec": {
   "display_name": "Python 3",
   "language": "python",
   "name": "python3"
  },
  "language_info": {
   "codemirror_mode": {
    "name": "ipython",
    "version": 3
   },
   "file_extension": ".py",
   "mimetype": "text/x-python",
   "name": "python",
   "nbconvert_exporter": "python",
   "pygments_lexer": "ipython3",
   "version": "3.11.2"
  }
 },
 "nbformat": 4,
 "nbformat_minor": 2
}
